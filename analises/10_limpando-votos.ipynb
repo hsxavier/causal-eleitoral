{
 "cells": [
  {
   "cell_type": "markdown",
   "id": "d5b62bfe-deb3-40e5-9aae-0c1cfdeeaef7",
   "metadata": {},
   "source": [
    "# Preparando dados de número de votos e receita"
   ]
  },
  {
   "cell_type": "code",
   "execution_count": 13,
   "id": "c712d8b2-9179-4f36-abc1-03d38b0c1f3b",
   "metadata": {},
   "outputs": [],
   "source": [
    "import pandas as pd\n",
    "from glob import glob\n",
    "\n",
    "import xavy.utils as xu"
   ]
  },
  {
   "cell_type": "markdown",
   "id": "b7560ef7-b557-4709-938c-055abae7bfef",
   "metadata": {},
   "source": [
    "## Funções"
   ]
  },
  {
   "cell_type": "code",
   "execution_count": 2,
   "id": "eac0240d-26a3-4575-925c-3c5fe04e1839",
   "metadata": {},
   "outputs": [],
   "source": [
    "def agg_votos(df, cargos=['DEPUTADO FEDERAL', 'DEPUTADO ESTADUAL'], agg_by=['SQ_CANDIDATO'], turno=1):\n",
    "\n",
    "    # Filter candidates:\n",
    "    df = df.loc[df['DS_CARGO'].isin(cargos)]\n",
    "    df = df.loc[df['NR_TURNO'] == turno]\n",
    "    assert df['NM_TIPO_ELEICAO'].nunique() <= 1, 'Encontrado mais um tipo de eleição. Verificar.'\n",
    "\n",
    "    # Count votes:\n",
    "    total_votos = df.groupby(agg_by)['QT_VOTOS_NOMINAIS'].sum()\n",
    "\n",
    "    return total_votos"
   ]
  },
  {
   "cell_type": "code",
   "execution_count": 3,
   "id": "fc7bda75-fba4-4144-85fb-e5c0ac538241",
   "metadata": {},
   "outputs": [],
   "source": [
    "def etl_votos(filename):\n",
    "    # Load data:\n",
    "    df = pd.read_csv(filename)\n",
    "    \n",
    "    # Aggregate votes:\n",
    "    votos = agg_votos(df)\n",
    "\n",
    "    return votos"
   ]
  },
  {
   "cell_type": "markdown",
   "id": "2cd12ca6-4f74-4287-98ba-4f0a04b6d152",
   "metadata": {},
   "source": [
    "## Receita"
   ]
  },
  {
   "cell_type": "code",
   "execution_count": 4,
   "id": "dfe39791-43f6-47e3-a589-811583c9e77d",
   "metadata": {},
   "outputs": [],
   "source": [
    "# Carrega dados:\n",
    "receita_df = pd.read_csv('../dados/brutos/receitas_candidatos_2022_BRASIL.csv', sep=';', encoding='latin-1', low_memory=False)"
   ]
  },
  {
   "cell_type": "code",
   "execution_count": 16,
   "id": "7b1becad-0347-426b-9d0c-f1601e30cce1",
   "metadata": {},
   "outputs": [],
   "source": [
    "# Transforma valores em float:\n",
    "receita_df['VR_RECEITA'] = xu.parse_ptbr_series(receita_df['VR_RECEITA'])"
   ]
  },
  {
   "cell_type": "code",
   "execution_count": 20,
   "id": "d70241b4-1446-4769-bc87-3bc7916d0f3e",
   "metadata": {},
   "outputs": [],
   "source": [
    "# Agrega receita por candidato:\n",
    "total_receita_df = receita_df.groupby('SQ_CANDIDATO')['VR_RECEITA'].sum().reset_index()"
   ]
  },
  {
   "cell_type": "code",
   "execution_count": 22,
   "id": "1052cf4c-d9d4-4240-b999-f15c6aa067b5",
   "metadata": {},
   "outputs": [],
   "source": [
    "# Salva:\n",
    "#total_receita_df.to_csv('../dados/processados/receita_por_candidato_2022.csv', index=False)"
   ]
  },
  {
   "cell_type": "markdown",
   "id": "827b0e06-e6b0-47e6-b957-a4de6998c89e",
   "metadata": {},
   "source": [
    "## Agregando votos por candidato"
   ]
  },
  {
   "cell_type": "markdown",
   "id": "f3ba1400-57cb-4feb-8aea-fafff47a71c5",
   "metadata": {},
   "source": [
    "### 2018"
   ]
  },
  {
   "cell_type": "code",
   "execution_count": null,
   "id": "553dc636-ba80-477e-9f21-30815f032e96",
   "metadata": {},
   "outputs": [],
   "source": [
    "# Lista os votos:\n",
    "votos_files = glob('../dados/limpos/votos_2018/votacao_candidato_munzona_2018_??.csv')\n",
    "\n",
    "# Carrega votos:\n",
    "votos_list = [etl_votos(f) for f in votos_files]\n",
    "votos = pd.concat(votos_list)\n",
    "votos.name = 'QT_VOTOS_NOMINAIS'"
   ]
  },
  {
   "cell_type": "code",
   "execution_count": 45,
   "id": "ac41f4d9-f2f3-4c9e-b078-c758583acc40",
   "metadata": {},
   "outputs": [],
   "source": [
    "# Save:\n",
    "#votos.reset_index().to_csv('../dados/processados/votos_por_candidato_2018.csv', index=False)"
   ]
  },
  {
   "cell_type": "markdown",
   "id": "a1aa2284-6162-4ab9-a845-d7c64125bfe8",
   "metadata": {},
   "source": [
    "### 2022"
   ]
  },
  {
   "cell_type": "code",
   "execution_count": 4,
   "id": "d4a3cc5e-fd33-4335-b47f-ee3633b9f134",
   "metadata": {},
   "outputs": [],
   "source": [
    "df = pd.read_csv('../../violentometro/dados/brutos/tse/votacao_candidato_munzona_2022/votacao_candidato_munzona_2022_BRASIL.csv', sep=';', encoding='latin-1')"
   ]
  },
  {
   "cell_type": "code",
   "execution_count": 9,
   "id": "473c087b-b59d-4fdd-b293-14d225087425",
   "metadata": {},
   "outputs": [],
   "source": [
    "votos = agg_votos(df, cargos=['Deputado Estadual', 'Deputado Federal'])"
   ]
  },
  {
   "cell_type": "code",
   "execution_count": 11,
   "id": "76ed9a83-381c-4068-9f8c-6e3d553d29f3",
   "metadata": {},
   "outputs": [],
   "source": [
    "# Save:\n",
    "votos.reset_index().to_csv('../dados/processados/votos_por_candidato_2022.csv', index=False)"
   ]
  }
 ],
 "metadata": {
  "kernelspec": {
   "display_name": "Python 3 (ipykernel)",
   "language": "python",
   "name": "python3"
  },
  "language_info": {
   "codemirror_mode": {
    "name": "ipython",
    "version": 3
   },
   "file_extension": ".py",
   "mimetype": "text/x-python",
   "name": "python",
   "nbconvert_exporter": "python",
   "pygments_lexer": "ipython3",
   "version": "3.8.10"
  }
 },
 "nbformat": 4,
 "nbformat_minor": 5
}
